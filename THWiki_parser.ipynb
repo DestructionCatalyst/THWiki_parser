{
  "nbformat": 4,
  "nbformat_minor": 0,
  "metadata": {
    "colab": {
      "name": "THWiki parser.ipynb",
      "provenance": [],
      "authorship_tag": "ABX9TyNLkfOdRJqvkxfmVkyBbSfl",
      "include_colab_link": true
    },
    "kernelspec": {
      "name": "python3",
      "display_name": "Python 3"
    },
    "language_info": {
      "name": "python"
    }
  },
  "cells": [
    {
      "cell_type": "markdown",
      "metadata": {
        "id": "view-in-github",
        "colab_type": "text"
      },
      "source": [
        "<a href=\"https://colab.research.google.com/github/DestructionCatalyst/TouhouDialogueGenerator/blob/main/THWiki_parser.ipynb\" target=\"_parent\"><img src=\"https://colab.research.google.com/assets/colab-badge.svg\" alt=\"Open In Colab\"/></a>"
      ]
    },
    {
      "cell_type": "code",
      "metadata": {
        "id": "C74ifB1t810x"
      },
      "source": [
        "from bs4 import BeautifulSoup"
      ],
      "execution_count": null,
      "outputs": []
    },
    {
      "cell_type": "markdown",
      "metadata": {
        "id": "W6rPxlUvYF5T"
      },
      "source": [
        "Sample parsing"
      ]
    },
    {
      "cell_type": "code",
      "metadata": {
        "id": "Hj86m48h8_Aw"
      },
      "source": [
        "in_file = open(\"TH06_Reimu.htm\")\n",
        "html_code = in_file.read() # File I downloaded from the wiki for testing"
      ],
      "execution_count": null,
      "outputs": []
    },
    {
      "cell_type": "code",
      "metadata": {
        "id": "87Guwf_4ckZi"
      },
      "source": [
        "in_file.close()"
      ],
      "execution_count": null,
      "outputs": []
    },
    {
      "cell_type": "code",
      "metadata": {
        "id": "JGlOf2_tC-gL"
      },
      "source": [
        "soup = BeautifulSoup(html_code)"
      ],
      "execution_count": null,
      "outputs": []
    },
    {
      "cell_type": "code",
      "metadata": {
        "id": "HaxiMCSWFFPx"
      },
      "source": [
        "for match in soup.findAll('sup', {'class': 'reference'}):\n",
        "    match.decompose() # Delete all references"
      ],
      "execution_count": null,
      "outputs": []
    },
    {
      "cell_type": "code",
      "metadata": {
        "id": "AAwgjO7lX4hu"
      },
      "source": [
        "tags_to_replace_with_children = ['a', 'p', 'b', 'i'] # All links, paragraphs and font types"
      ],
      "execution_count": null,
      "outputs": []
    },
    {
      "cell_type": "code",
      "metadata": {
        "id": "zI3uD_gTYDOu"
      },
      "source": [
        "for tag in tags_to_replace_with_children:\n",
        "  for match in soup.findAll(tag):\n",
        "    match.replaceWithChildren()"
      ],
      "execution_count": null,
      "outputs": []
    },
    {
      "cell_type": "code",
      "metadata": {
        "id": "OqPYeIl0NnRu"
      },
      "source": [
        "for match in soup.findAll('br'):\n",
        "    match.replace_with(' ') # Merge paragraphs"
      ],
      "execution_count": null,
      "outputs": []
    },
    {
      "cell_type": "code",
      "metadata": {
        "id": "EsaKS9QvExe9"
      },
      "source": [
        "tables = soup.find_all('table', {'class': 'wikitable'})"
      ],
      "execution_count": null,
      "outputs": []
    },
    {
      "cell_type": "code",
      "metadata": {
        "id": "XAl8eZvfI1Qu"
      },
      "source": [
        "rows = list(map(lambda table: table.find_all('tr'), tables))"
      ],
      "execution_count": null,
      "outputs": []
    },
    {
      "cell_type": "code",
      "metadata": {
        "colab": {
          "base_uri": "https://localhost:8080/"
        },
        "id": "QwWZ32aVJmre",
        "outputId": "2311e7f6-1464-4b13-eadd-7e8e7e3d3365"
      },
      "source": [
        "print(rows[0][0])"
      ],
      "execution_count": null,
      "outputs": [
        {
          "output_type": "stream",
          "text": [
            "<tr>\n",
            "<th>\n",
            "</th>\n",
            "<th lang=\"ja\" style=\"width:45%\">\n",
            "夢幻夜行絵巻　～ <span lang=\"en\">Mystic Flier</span>\n",
            "\n",
            "</th>\n",
            "<th style=\"width:55%\">\n",
            "Fantastic Night Parade Scroll ~ Mystic Flier\n",
            "\n",
            "</th></tr>\n"
          ],
          "name": "stdout"
        }
      ]
    },
    {
      "cell_type": "code",
      "metadata": {
        "colab": {
          "base_uri": "https://localhost:8080/"
        },
        "id": "_-ngsXqLDGIn",
        "outputId": "e7cbf951-1420-4431-a1b7-d90c14bd3cba"
      },
      "source": [
        "print(rows[0][3])"
      ],
      "execution_count": null,
      "outputs": [
        {
          "output_type": "stream",
          "text": [
            "<tr>\n",
            "<th style=\"word-wrap: nowrap\">\n",
            "Reimu\n",
            "\n",
            "</th>\n",
            "<td lang=\"ja\" width=\"45%\">\n",
            "気持ちいいわね\n",
            "毎回、昼間に出発して悪霊が少ない から、夜に出てみたんだけど．．．\n",
            "どこに行っていいかわからないわ 暗くて\n",
            "でも．．．\n",
            "夜の境内裏はロマンティックね （←のんき）\n",
            "\n",
            "</td>\n",
            "<td width=\"55%\">\n",
            "It sure feels great out.\n",
            "There aren't many evil spirits about during the day, so I'm trying my luck at night...\n",
            "But it's dark out, and I'm not sure where to go.\n",
            "Still...\n",
            "It's so romantic out behind the shrine at night. (← carefree)\n",
            "\n",
            "</td></tr>\n"
          ],
          "name": "stdout"
        }
      ]
    },
    {
      "cell_type": "code",
      "metadata": {
        "id": "jHZ4-Qx4QUSF"
      },
      "source": [
        "dialogues = []"
      ],
      "execution_count": null,
      "outputs": []
    },
    {
      "cell_type": "code",
      "metadata": {
        "id": "mE_gHnXOYso8"
      },
      "source": [
        "out_file = open('output.txt', mode='w')"
      ],
      "execution_count": null,
      "outputs": []
    },
    {
      "cell_type": "code",
      "metadata": {
        "id": "bIok9fnwROKM"
      },
      "source": [
        "game = 60 # Because there will be fractional numbers, and floating point values suck"
      ],
      "execution_count": null,
      "outputs": []
    },
    {
      "cell_type": "code",
      "metadata": {
        "id": "_Infax0fJ2cN"
      },
      "source": [
        "for stage, table in enumerate(rows):\n",
        "  for row in table:\n",
        "    name_cell = row.find('th', {'style': 'word-wrap: nowrap'})\n",
        "    ja_cell = row.find('td', {'lang': 'ja', 'width': '45%'})\n",
        "    en_cell = row.find('td', {'width': '55%'})\n",
        "\n",
        "    if name_cell and ja_cell and en_cell:\n",
        "      out_file.write(f\"{name_cell.text.strip()}:\\n{en_cell.text.strip()}\\n\\n\")\n",
        "      #dialogues.append({'Character': name_cell.text.strip(), 'Text': en_cell.text.strip(), 'Game': game, 'Stage': stage+1})"
      ],
      "execution_count": null,
      "outputs": []
    },
    {
      "cell_type": "code",
      "metadata": {
        "id": "agdZETnEZxH_"
      },
      "source": [
        "out_file.close()"
      ],
      "execution_count": null,
      "outputs": []
    },
    {
      "cell_type": "code",
      "metadata": {
        "id": "tw25vL82Z_Im"
      },
      "source": [
        "!cat output.txt"
      ],
      "execution_count": null,
      "outputs": []
    },
    {
      "cell_type": "markdown",
      "metadata": {
        "id": "iRotXKc4al3m"
      },
      "source": [
        "All this process as a function"
      ]
    },
    {
      "cell_type": "code",
      "metadata": {
        "id": "zjTEPct2alQ0"
      },
      "source": [
        "def parse_pages(input_file_path, output_file,\n",
        "                tags_to_decompose=(('sup', {'class': 'reference'}),),\n",
        "                tags_to_replace_with_children=(('a',), ('p',), ('b',), ('i',)),\n",
        "                tags_to_replace={('br',): ' '}\n",
        "                ):\n",
        "  \"\"\"\n",
        "  Parses a page of Touhou wiki in htm format to extract dialogue and puts it into a text file\n",
        "\n",
        "\n",
        "  input_file_path is a string containing the path to an input file.\\\n",
        "  This file will not be modified in any way.\n",
        "\n",
        "  output_file is a file stream where the contents of the file will be written.\\\n",
        "  It must be opened for writing befor the function and closed after its usage\n",
        "\n",
        "  tags_to_decompose is a tuple of pairs (2-item tuples),\\\n",
        "  in the format that is accepted by BeutifulSoup.find()\\\n",
        "  These tags will be decomposed (i.e. deleted with all their children)\n",
        "\n",
        "  tags_to_replace_with_children is a tuple of pairs (2-item tuples),\\\n",
        "  in the format that is accepted by BeutifulSoup.find()\\  \n",
        "  These tags will be replaced with their children\n",
        "\n",
        "  tags_to_replace is a dictionary, where key is a tag accepted by BeutifulSoup.find()\\  \n",
        "  These tags will be replaced with their values in the dictionary\n",
        "  \"\"\"\n",
        "\n",
        "  # Reading data\n",
        "  in_file = open(input_file_path)\n",
        "  soup = BeautifulSoup(in_file.read())\n",
        "  in_file.close()\n",
        "\n",
        "  # Preprocessing\n",
        "  for tag in tags_to_decompose:\n",
        "    for match in soup.findAll(*tag):\n",
        "      match.decompose()\n",
        "\n",
        "  for tag in tags_to_replace_with_children:\n",
        "    for match in soup.findAll(*tag):\n",
        "      match.replaceWithChildren()\n",
        "\n",
        "  for tag, replacement in tags_to_replace.items():\n",
        "    for match in soup.findAll(*tag):\n",
        "      match.replace_with(replacement)\n",
        "\n",
        "  # Extracting table rows\n",
        "  tables = soup.find_all('table', {'class': 'wikitable'})\n",
        "  rows = list(map(lambda table: table.find_all('tr'), tables))\n",
        "\n",
        "  # Selecting dialoue rows\n",
        "  for table in rows:\n",
        "    for row in table:\n",
        "      name_cell = row.find('th', {'style': 'word-wrap: nowrap'})\n",
        "      ja_cell = row.find('td', {'lang': 'ja', 'width': '45%'})\n",
        "      en_cell = row.find('td', {'width': '55%'})\n",
        "\n",
        "      # If row has all the necessary elements in it\n",
        "      if name_cell and ja_cell and en_cell:\n",
        "        # Write it to output file in the correct format\n",
        "        out_file.write(f\"{name_cell.text.strip()}:\\n{en_cell.text.strip()}\\n\\n\")"
      ],
      "execution_count": 64,
      "outputs": []
    },
    {
      "cell_type": "code",
      "metadata": {
        "id": "cgJqtDVpnja6"
      },
      "source": [
        "out_file = open('output1.txt', mode='w')"
      ],
      "execution_count": 65,
      "outputs": []
    },
    {
      "cell_type": "code",
      "metadata": {
        "id": "ey66wrKPc3n-"
      },
      "source": [
        "parse_pages(\"TH06_Reimu.htm\", out_file)"
      ],
      "execution_count": 66,
      "outputs": []
    },
    {
      "cell_type": "code",
      "metadata": {
        "id": "HCnozCx0nja7"
      },
      "source": [
        "out_file.close()"
      ],
      "execution_count": 67,
      "outputs": []
    },
    {
      "cell_type": "code",
      "metadata": {
        "colab": {
          "base_uri": "https://localhost:8080/"
        },
        "id": "zzrykuJwnja8",
        "outputId": "b915736b-1274-450a-d1f2-e67bd8eb31a7"
      },
      "source": [
        "!cat output1.txt | head"
      ],
      "execution_count": 69,
      "outputs": [
        {
          "output_type": "stream",
          "text": [
            "Reimu:\n",
            "It's been a while since my last job.\n",
            "\n",
            "Reimu:\n",
            "It sure feels great out.\n",
            "There aren't many evil spirits about during the day, so I'm trying my luck at night...\n",
            "But it's dark out, and I'm not sure where to go.\n",
            "Still...\n",
            "It's so romantic out behind the shrine at night. (← carefree)\n",
            "\n"
          ],
          "name": "stdout"
        }
      ]
    },
    {
      "cell_type": "code",
      "metadata": {
        "id": "b9AU5UOvsMvS"
      },
      "source": [
        "files = ['TH06_Reimu.htm', 'TH06_Marisa.htm', 'TH06_Reimu_Extra.htm', 'TH06_Marisa_Extra.htm']"
      ],
      "execution_count": 73,
      "outputs": []
    },
    {
      "cell_type": "code",
      "metadata": {
        "id": "FMwmNy1LtG4F"
      },
      "source": [
        "out_file = open('output2.txt', mode='w')"
      ],
      "execution_count": 75,
      "outputs": []
    },
    {
      "cell_type": "code",
      "metadata": {
        "id": "JcfecgW3tN0_"
      },
      "source": [
        "for input_file in files:\n",
        "  parse_pages(input_file, out_file)"
      ],
      "execution_count": 76,
      "outputs": []
    },
    {
      "cell_type": "code",
      "metadata": {
        "id": "dZGiUmrctU1E"
      },
      "source": [
        "out_file.close()"
      ],
      "execution_count": 77,
      "outputs": []
    },
    {
      "cell_type": "code",
      "metadata": {
        "colab": {
          "base_uri": "https://localhost:8080/"
        },
        "id": "ESlvOztBtk1q",
        "outputId": "49fad745-c0eb-40b2-ae13-abc1e381807d"
      },
      "source": [
        "!cat output2.txt | head"
      ],
      "execution_count": 80,
      "outputs": [
        {
          "output_type": "stream",
          "text": [
            "Reimu:\n",
            "It's been a while since my last job.\n",
            "\n",
            "Reimu:\n",
            "It sure feels great out.\n",
            "There aren't many evil spirits about during the day, so I'm trying my luck at night...\n",
            "But it's dark out, and I'm not sure where to go.\n",
            "Still...\n",
            "It's so romantic out behind the shrine at night. (← carefree)\n",
            "\n"
          ],
          "name": "stdout"
        }
      ]
    },
    {
      "cell_type": "code",
      "metadata": {
        "colab": {
          "base_uri": "https://localhost:8080/"
        },
        "id": "eu1O8BmUtmiJ",
        "outputId": "d3e57076-653d-443d-dc20-63ea72b97246"
      },
      "source": [
        "!cat output2.txt | tail"
      ],
      "execution_count": 81,
      "outputs": [
        {
          "output_type": "stream",
          "text": [
            "Marisa:\n",
            "Wait, you don't know?\n",
            "She got married and then there were none...\n",
            "\n",
            "Flandre:\n",
            "Marry who?\n",
            "\n",
            "Marisa:\n",
            "I'll introduce ya to a girl at a shrine.\n",
            "\n"
          ],
          "name": "stdout"
        }
      ]
    }
  ]
}